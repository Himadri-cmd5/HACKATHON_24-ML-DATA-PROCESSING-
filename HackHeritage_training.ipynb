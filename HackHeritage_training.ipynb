{
 "cells": [
  {
   "cell_type": "code",
   "execution_count": 1,
   "id": "6d18f225-3963-415a-904f-60335e791941",
   "metadata": {},
   "outputs": [
    {
     "data": {
      "text/plain": [
       "State Name                -0.345138\n",
       "Dist Name                  0.002445\n",
       "Year                       0.034882\n",
       "Crop Name                  0.000000\n",
       "Price (Rs. per Quintal)    2.787775\n",
       "dtype: float64"
      ]
     },
     "execution_count": 1,
     "metadata": {},
     "output_type": "execute_result"
    }
   ],
   "source": [
    "import pandas as pd\n",
    "from sklearn.model_selection import train_test_split\n",
    "from sklearn.ensemble import RandomForestRegressor\n",
    "from sklearn.linear_model import LinearRegression\n",
    "from sklearn.metrics import mean_squared_error, r2_score\n",
    "from sklearn.preprocessing import LabelEncoder\n",
    "import numpy as np\n",
    "\n",
    "\n",
    "df = pd.read_csv(\"D:\\\\HACKHERITAGE\\\\5_CROPS_1966-2016_ALL_STATES.csv\")\n",
    "\n",
    "encoder = LabelEncoder()\n",
    "df['State Name'] = encoder.fit_transform(df['State Name'])\n",
    "df['Dist Name'] = encoder.fit_transform(df['Dist Name'])\n",
    "df['Crop Name'] = encoder.fit_transform(df['Crop Name'])\n",
    "\n",
    "\n",
    "df.skew()"
   ]
  },
  {
   "cell_type": "code",
   "execution_count": 2,
   "id": "898ec77d-8f49-450a-ab76-5a8b82aa4869",
   "metadata": {},
   "outputs": [
    {
     "data": {
      "text/plain": [
       "State Name                -0.345138\n",
       "Dist Name                  0.002445\n",
       "Year                       0.034882\n",
       "Crop Name                  0.000000\n",
       "Price (Rs. per Quintal)   -0.639469\n",
       "dtype: float64"
      ]
     },
     "execution_count": 2,
     "metadata": {},
     "output_type": "execute_result"
    }
   ],
   "source": [
    "df['Price (Rs. per Quintal)'] = np.log(df['Price (Rs. per Quintal)'])\n",
    "\n",
    "df.skew()"
   ]
  },
  {
   "cell_type": "code",
   "execution_count": 3,
   "id": "208732f0-a4af-4c91-8b89-fd88b55a7311",
   "metadata": {},
   "outputs": [
    {
     "data": {
      "text/plain": [
       "State Name                -0.345138\n",
       "Dist Name                  0.002445\n",
       "Year                       0.034882\n",
       "Crop Name                  0.000000\n",
       "Price (Rs. per Quintal)   -0.161501\n",
       "dtype: float64"
      ]
     },
     "execution_count": 3,
     "metadata": {},
     "output_type": "execute_result"
    }
   ],
   "source": [
    "df['Price (Rs. per Quintal)'] = df['Price (Rs. per Quintal)'] ** 2\n",
    "df.skew()\n"
   ]
  },
  {
   "cell_type": "code",
   "execution_count": 4,
   "id": "708b1246-2da0-4d64-a531-1b0b500f92e2",
   "metadata": {},
   "outputs": [
    {
     "name": "stdout",
     "output_type": "stream",
     "text": [
      "Mean Squared Error: 10.59396465980913\n",
      "R-squared: 0.8386240400161356\n"
     ]
    }
   ],
   "source": [
    "X = df.drop(columns = ['Price (Rs. per Quintal)'])\n",
    "y = df['Price (Rs. per Quintal)']\n",
    "#X = pd.get_dummies(x)\n",
    "\n",
    "X_train, X_test, y_train, y_test = train_test_split(X, y, test_size=0.2, random_state=50)\n",
    "\n",
    "rf = RandomForestRegressor(n_estimators=350, random_state=50)\n",
    "rf.fit(X_train, y_train)\n",
    "\n",
    "y_pred = rf.predict(X_test)\n",
    "\n",
    "mse = mean_squared_error(y_test, y_pred)\n",
    "r2 = r2_score(y_test, y_pred)\n",
    "\n",
    "\n",
    "print(f\"Mean Squared Error: {mse}\")\n",
    "print(f\"R-squared: {r2}\")\n"
   ]
  },
  {
   "cell_type": "code",
   "execution_count": null,
   "id": "48b46242-02c6-4ae7-99d5-07b8bdb9138e",
   "metadata": {},
   "outputs": [],
   "source": []
  },
  {
   "cell_type": "code",
   "execution_count": null,
   "id": "5ade5a6b-32a2-46bf-81d4-415786343493",
   "metadata": {},
   "outputs": [],
   "source": []
  },
  {
   "cell_type": "code",
   "execution_count": null,
   "id": "01db21ce-50e1-49bb-b541-7da55887b656",
   "metadata": {},
   "outputs": [],
   "source": []
  },
  {
   "cell_type": "code",
   "execution_count": null,
   "id": "37050c28-e893-4ba7-97aa-246df9b0e6da",
   "metadata": {},
   "outputs": [],
   "source": []
  }
 ],
 "metadata": {
  "kernelspec": {
   "display_name": "Python 3 (ipykernel)",
   "language": "python",
   "name": "python3"
  },
  "language_info": {
   "codemirror_mode": {
    "name": "ipython",
    "version": 3
   },
   "file_extension": ".py",
   "mimetype": "text/x-python",
   "name": "python",
   "nbconvert_exporter": "python",
   "pygments_lexer": "ipython3",
   "version": "3.11.3"
  }
 },
 "nbformat": 4,
 "nbformat_minor": 5
}
